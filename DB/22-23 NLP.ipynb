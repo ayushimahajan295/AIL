{
 "cells": [
  {
   "cell_type": "code",
   "execution_count": 11,
   "id": "e53d925e-3d24-46a0-8a43-83f376cbaa81",
   "metadata": {},
   "outputs": [
    {
     "name": "stderr",
     "output_type": "stream",
     "text": [
      "[nltk_data] Downloading package punkt_tab to\n",
      "[nltk_data]     C:\\Users\\HP\\AppData\\Roaming\\nltk_data...\n",
      "[nltk_data]   Unzipping tokenizers\\punkt_tab.zip.\n",
      "[nltk_data] Downloading package stopwords to\n",
      "[nltk_data]     C:\\Users\\HP\\AppData\\Roaming\\nltk_data...\n",
      "[nltk_data]   Package stopwords is already up-to-date!\n"
     ]
    },
    {
     "name": "stdout",
     "output_type": "stream",
     "text": [
      "\n",
      "Cleaned Tokens:\n",
      " ['natural', 'language', 'processing', 'branch', 'artificial', 'intelligence', 'helps', 'computers', 'understund', 'human', 'language', 'nlp', 'widelyy', 'used', 'applications', 'chatbots', 'sentiment', 'analysis', 'search', 'engines']\n",
      "\n",
      "Corrected Tokens:\n",
      " ['natural', 'language', 'processing', 'branch', 'artificial', 'intelligence', 'helps', 'computers', 'understand', 'human', 'language', 'nap', 'widely', 'used', 'applications', 'whatnots', 'sentiment', 'analysis', 'search', 'engines']\n"
     ]
    }
   ],
   "source": [
    "#22. Write a program to read a text file with at least 30 sentences and 200 words\n",
    "#and perform the following tasks in the given sequence.\n",
    "#a. Text cleaning by removing punctuation/special characters, numbers\n",
    "#and extra white spaces. Use regular expression for the same.\n",
    "#b. Convert text to lowercase\n",
    "#c. Tokenization\n",
    "#d. Remove stop words\n",
    "#e. Correct misspelled words \n",
    "import re\n",
    "import nltk\n",
    "from nltk.corpus import stopwords\n",
    "from nltk.tokenize import word_tokenize\n",
    "from textblob import TextBlob\n",
    "\n",
    "# Download required NLTK data\n",
    "nltk.download('punkt_tab')\n",
    "nltk.download('stopwords')\n",
    "\n",
    "# Load and read text file\n",
    "with open(\"D:/College/AIL/sample_text.txt\", \"r\", encoding='utf-8') as f:\n",
    "    text = f.read()\n",
    "\n",
    "# Step 1: Text Cleaning (remove punctuation, special characters, numbers, and extra white spaces)\n",
    "text = re.sub(r'[^a-zA-Z\\s]', '', text)            # Remove punctuation & special chars\n",
    "text = re.sub(r'\\s+', ' ', text).strip()           # Remove extra spaces\n",
    "\n",
    "# Step 2: Convert text to lowercase\n",
    "text = text.lower()\n",
    "\n",
    "# Step 3: Tokenization\n",
    "tokens = word_tokenize(text)\n",
    "\n",
    "# Step 4: Remove stop words\n",
    "stop_words = set(stopwords.words('english'))\n",
    "tokens = [word for word in tokens if word not in stop_words]\n",
    "\n",
    "# Step 5: Correct misspelled words using TextBlob\n",
    "corrected_tokens = [str(TextBlob(word).correct()) for word in tokens]\n",
    "\n",
    "# Display results\n",
    "print(\"\\nCleaned Tokens:\\n\", tokens[:20])\n",
    "print(\"\\nCorrected Tokens:\\n\", corrected_tokens[:20])"
   ]
  },
  {
   "cell_type": "code",
   "execution_count": 12,
   "id": "36541bb7-50bc-49e6-94ba-f5ed4fd8671a",
   "metadata": {},
   "outputs": [
    {
     "name": "stderr",
     "output_type": "stream",
     "text": [
      "[nltk_data] Downloading package punkt to\n",
      "[nltk_data]     C:\\Users\\HP\\AppData\\Roaming\\nltk_data...\n",
      "[nltk_data]   Package punkt is already up-to-date!\n",
      "[nltk_data] Downloading package stopwords to\n",
      "[nltk_data]     C:\\Users\\HP\\AppData\\Roaming\\nltk_data...\n",
      "[nltk_data]   Package stopwords is already up-to-date!\n",
      "[nltk_data] Downloading package wordnet to\n",
      "[nltk_data]     C:\\Users\\HP\\AppData\\Roaming\\nltk_data...\n"
     ]
    },
    {
     "name": "stdout",
     "output_type": "stream",
     "text": [
      "\n",
      "Lemmatized Tokens:\n",
      " ['natural', 'language', 'processing', 'is', 'a', 'branch', 'of', 'artificial', 'intelligence', 'it', 'help', 'computer', 'understund', 'human', 'language', 'nlp', 'is', 'widelyy', 'used', 'in']\n",
      "\n",
      "Consecutive Words (3 consecutive words):\n",
      " [['natural', 'language', 'processing'], ['language', 'processing', 'is'], ['processing', 'is', 'a'], ['is', 'a', 'branch'], ['a', 'branch', 'of'], ['branch', 'of', 'artificial'], ['of', 'artificial', 'intelligence'], ['artificial', 'intelligence', 'it'], ['intelligence', 'it', 'help'], ['it', 'help', 'computer']]\n"
     ]
    }
   ],
   "source": [
    "#23. Write a program to read a text file with at least 30 sentences and 200 words\n",
    "#and perform the following tasks in the given sequence.\n",
    "#a. Text cleaning by removing punctuation/special characters, numbers\n",
    "#and extra white spaces. Use regular expression for the same.\n",
    "#b. Convert text to lowercase\n",
    "#c. Stemming and Lemmatization\n",
    "#d. Create a list of 3 consecutive words after lemmatization\n",
    "import re\n",
    "import nltk\n",
    "from nltk.tokenize import word_tokenize\n",
    "from nltk.corpus import stopwords\n",
    "from nltk.stem import PorterStemmer\n",
    "from nltk.stem import WordNetLemmatizer\n",
    "\n",
    "# Download required NLTK data\n",
    "nltk.download('punkt')\n",
    "nltk.download('stopwords')\n",
    "nltk.download('wordnet')\n",
    "\n",
    "# Load and read text file\n",
    "with open(\"D:/College/AIL/sample_text.txt\", \"r\", encoding='utf-8') as f:\n",
    "    text = f.read()\n",
    "\n",
    "# Step 1: Text Cleaning (remove punctuation, special characters, numbers, and extra white spaces)\n",
    "text = re.sub(r'[^a-zA-Z\\s]', '', text)  # Remove punctuation & special characters\n",
    "text = re.sub(r'\\s+', ' ', text).strip()  # Remove extra spaces\n",
    "\n",
    "# Step 2: Convert text to lowercase\n",
    "text = text.lower()\n",
    "\n",
    "# Step 3: Tokenization\n",
    "tokens = word_tokenize(text)\n",
    "\n",
    "# Step 4: Stemming (using PorterStemmer)\n",
    "stemmer = PorterStemmer()\n",
    "stemmed_tokens = [stemmer.stem(word) for word in tokens]\n",
    "\n",
    "# Step 5: Lemmatization (using WordNetLemmatizer)\n",
    "lemmatizer = WordNetLemmatizer()\n",
    "lemmatized_tokens = [lemmatizer.lemmatize(word) for word in tokens]\n",
    "\n",
    "# Step 6: Create a list of 3 consecutive words after lemmatization\n",
    "consecutive_words = [lemmatized_tokens[i:i+3] for i in range(len(lemmatized_tokens)-2)]\n",
    "\n",
    "# Display results\n",
    "print(\"\\nLemmatized Tokens:\\n\", lemmatized_tokens[:20])\n",
    "print(\"\\nConsecutive Words (3 consecutive words):\\n\", consecutive_words[:10])"
   ]
  },
  {
   "cell_type": "code",
   "execution_count": null,
   "id": "45697a58-bba9-4cb2-b20d-7b57da05dfb9",
   "metadata": {},
   "outputs": [],
   "source": []
  }
 ],
 "metadata": {
  "kernelspec": {
   "display_name": "Python 3 (ipykernel)",
   "language": "python",
   "name": "python3"
  },
  "language_info": {
   "codemirror_mode": {
    "name": "ipython",
    "version": 3
   },
   "file_extension": ".py",
   "mimetype": "text/x-python",
   "name": "python",
   "nbconvert_exporter": "python",
   "pygments_lexer": "ipython3",
   "version": "3.10.10"
  }
 },
 "nbformat": 4,
 "nbformat_minor": 5
}
