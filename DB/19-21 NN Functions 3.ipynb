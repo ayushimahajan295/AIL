{
 "cells": [
  {
   "cell_type": "code",
   "execution_count": 6,
   "id": "9408eff0-aba5-4137-86ce-00fab91f017b",
   "metadata": {},
   "outputs": [
    {
     "name": "stdin",
     "output_type": "stream",
     "text": [
      "Enter number of input features (N):  2\n",
      "Enter learning rate (e.g., 0.1):  0.1\n",
      "Enter number of neurons in Hidden Layer 1:  3\n",
      "Enter number of neurons in Hidden Layer 2:  2\n"
     ]
    },
    {
     "name": "stdout",
     "output_type": "stream",
     "text": [
      "\n",
      "Generated Binary Input Combinations:\n",
      "[0, 0] "
     ]
    },
    {
     "name": "stdin",
     "output_type": "stream",
     "text": [
      "Enter expected output (0 or 1):  1\n"
     ]
    },
    {
     "name": "stdout",
     "output_type": "stream",
     "text": [
      "[0, 1] "
     ]
    },
    {
     "name": "stdin",
     "output_type": "stream",
     "text": [
      "Enter expected output (0 or 1):  0\n"
     ]
    },
    {
     "name": "stdout",
     "output_type": "stream",
     "text": [
      "[1, 0] "
     ]
    },
    {
     "name": "stdin",
     "output_type": "stream",
     "text": [
      "Enter expected output (0 or 1):  1\n"
     ]
    },
    {
     "name": "stdout",
     "output_type": "stream",
     "text": [
      "[1, 1] "
     ]
    },
    {
     "name": "stdin",
     "output_type": "stream",
     "text": [
      "Enter expected output (0 or 1):  0\n"
     ]
    },
    {
     "name": "stdout",
     "output_type": "stream",
     "text": [
      "Epoch 1 - Loss: 0.248180\n",
      "Epoch 101 - Loss: 0.245132\n",
      "Epoch 201 - Loss: 0.242596\n",
      "Epoch 301 - Loss: 0.238650\n",
      "Epoch 401 - Loss: 0.232190\n",
      "Epoch 501 - Loss: 0.221140\n",
      "Epoch 601 - Loss: 0.201764\n",
      "Epoch 701 - Loss: 0.168931\n",
      "Epoch 801 - Loss: 0.122319\n",
      "Epoch 901 - Loss: 0.076430\n",
      "Epoch 1001 - Loss: 0.045894\n",
      "Epoch 1101 - Loss: 0.029134\n",
      "Epoch 1201 - Loss: 0.019982\n",
      "Epoch 1301 - Loss: 0.014650\n",
      "Epoch 1401 - Loss: 0.011309\n",
      "Epoch 1501 - Loss: 0.009079\n",
      "Epoch 1601 - Loss: 0.007512\n",
      "Epoch 1701 - Loss: 0.006364\n",
      "Epoch 1801 - Loss: 0.005493\n",
      "Epoch 1901 - Loss: 0.004815\n",
      "Epoch 2001 - Loss: 0.004273\n",
      "Epoch 2101 - Loss: 0.003833\n",
      "Epoch 2201 - Loss: 0.003468\n",
      "Epoch 2301 - Loss: 0.003163\n",
      "Epoch 2401 - Loss: 0.002903\n",
      "Epoch 2501 - Loss: 0.002680\n",
      "Epoch 2601 - Loss: 0.002487\n",
      "Epoch 2701 - Loss: 0.002318\n",
      "Epoch 2801 - Loss: 0.002169\n",
      "Epoch 2901 - Loss: 0.002037\n",
      "Epoch 3001 - Loss: 0.001920\n",
      "Epoch 3101 - Loss: 0.001814\n",
      "Epoch 3201 - Loss: 0.001719\n",
      "Epoch 3301 - Loss: 0.001633\n",
      "Epoch 3401 - Loss: 0.001554\n",
      "Epoch 3501 - Loss: 0.001482\n",
      "Epoch 3601 - Loss: 0.001417\n",
      "Epoch 3701 - Loss: 0.001356\n",
      "Epoch 3801 - Loss: 0.001301\n",
      "Epoch 3901 - Loss: 0.001249\n",
      "Epoch 4001 - Loss: 0.001201\n",
      "Epoch 4101 - Loss: 0.001157\n",
      "Epoch 4201 - Loss: 0.001115\n",
      "Epoch 4301 - Loss: 0.001077\n",
      "Epoch 4401 - Loss: 0.001040\n",
      "Epoch 4501 - Loss: 0.001006\n",
      "Training stopped at epoch 4521 with loss 0.001000\n",
      "\n",
      "Training complete!\n",
      "\n",
      "Sample\tInput\t\tExpected Output\tPredicted Output\n",
      "--------------------------------------------------------------\n",
      "1\t[0 0]\t\t1\t\t   1\n",
      "2\t[0 1]\t\t0\t\t   0\n",
      "3\t[1 0]\t\t1\t\t   1\n",
      "4\t[1 1]\t\t0\t\t   0\n"
     ]
    }
   ],
   "source": [
    "# 19. Implement a simple Multi-Layer Perceptron with N binary inputs, two\n",
    "# hidden layers and one output. Use backpropagation and Sigmoid function\n",
    "#as activation function. \n",
    "# NN SIGMOID\n",
    "import numpy as np\n",
    "from itertools import product\n",
    "\n",
    "# Activation and derivative\n",
    "def sigmoid(x):\n",
    "    return 1 / (1 + np.exp(-x))\n",
    "\n",
    "def sigmoid_derivative(x):\n",
    "    return x * (1 - x)\n",
    "\n",
    "# User inputs\n",
    "N = int(input(\"Enter number of input features (N): \"))\n",
    "lr = float(input(\"Enter learning rate (e.g., 0.1): \"))\n",
    "hidden1 = int(input(\"Enter number of neurons in Hidden Layer 1: \"))\n",
    "hidden2 = int(input(\"Enter number of neurons in Hidden Layer 2: \"))\n",
    "\n",
    "# Generate all binary combinations of length N\n",
    "X = np.array(list(product([0, 1], repeat=N)))\n",
    "\n",
    "# Take expected output from user\n",
    "y = []\n",
    "print(\"\\nGenerated Binary Input Combinations:\")\n",
    "for x in X:\n",
    "    # Directly print the input as a list without np.int64\n",
    "    print(x.tolist(), end=' ')\n",
    "    out = int(input(\"Enter expected output (0 or 1): \"))\n",
    "    y.append([out])\n",
    "y = np.array(y)\n",
    "\n",
    "# Initialize weights and biases\n",
    "np.random.seed(1)\n",
    "w1 = np.random.uniform(-1, 1, size=(N, hidden1))\n",
    "b1 = np.zeros((1, hidden1))\n",
    "\n",
    "w2 = np.random.uniform(-1, 1, size=(hidden1, hidden2))\n",
    "b2 = np.zeros((1, hidden2))\n",
    "\n",
    "w3 = np.random.uniform(-1, 1, size=(hidden2, 1))\n",
    "b3 = np.zeros((1, 1))\n",
    "\n",
    "# Training: stop automatically when loss is low\n",
    "max_epochs = 10000\n",
    "target_loss = 0.001\n",
    "\n",
    "for epoch in range(max_epochs):\n",
    "    # Forward pass\n",
    "    z1 = np.dot(X, w1) + b1\n",
    "    a1 = sigmoid(z1)\n",
    "    z2 = np.dot(a1, w2) + b2\n",
    "    a2 = sigmoid(z2)\n",
    "    z3 = np.dot(a2, w3) + b3\n",
    "    output = sigmoid(z3)\n",
    "\n",
    "    # Backpropagation\n",
    "    error = y - output\n",
    "    d_output = error * sigmoid_derivative(output)\n",
    "    d_hidden2 = d_output.dot(w3.T) * sigmoid_derivative(a2)\n",
    "    d_hidden1 = d_hidden2.dot(w2.T) * sigmoid_derivative(a1)\n",
    "\n",
    "    # Update weights and biases\n",
    "    w3 += a2.T.dot(d_output) * lr\n",
    "    b3 += np.sum(d_output, axis=0, keepdims=True) * lr\n",
    "    w2 += a1.T.dot(d_hidden2) * lr\n",
    "    b2 += np.sum(d_hidden2, axis=0, keepdims=True) * lr\n",
    "    w1 += X.T.dot(d_hidden1) * lr\n",
    "    b1 += np.sum(d_hidden1, axis=0, keepdims=True) * lr\n",
    "\n",
    "    # Calculate and print loss\n",
    "    loss = np.mean(np.square(error))\n",
    "    if epoch % 100 == 0 or epoch == max_epochs - 1:\n",
    "        print(f\"Epoch {epoch+1} - Loss: {loss:.6f}\")\n",
    "    if loss < target_loss:\n",
    "        print(f\"Training stopped at epoch {epoch+1} with loss {loss:.6f}\")\n",
    "        break\n",
    "\n",
    "# Final Output\n",
    "predicted = (output > 0.5).astype(int)\n",
    "print(\"\\nTraining complete!\\n\")\n",
    "print(\"Sample\\tInput\\t\\tExpected Output\\tPredicted Output\")\n",
    "print(\"--------------------------------------------------------------\")\n",
    "for i in range(len(X)):\n",
    "    inputs = ' '.join(map(str, X[i]))  # Print the inputs as normal integers\n",
    "    print(f\"{i+1}\\t[{inputs}]\\t\\t{y[i][0]}\\t\\t   {predicted[i][0]}\")"
   ]
  },
  {
   "cell_type": "code",
   "execution_count": 7,
   "id": "4b7c8884-2b35-4529-ac11-00d381ccb993",
   "metadata": {},
   "outputs": [
    {
     "name": "stdin",
     "output_type": "stream",
     "text": [
      "Enter number of input features (N):  2\n",
      "Enter learning rate (e.g., 0.1):  0.1\n",
      "Enter number of neurons in Hidden Layer 1:  3\n",
      "Enter number of neurons in Hidden Layer 2:  2\n"
     ]
    },
    {
     "name": "stdout",
     "output_type": "stream",
     "text": [
      "\n",
      "Generated Binary Input Combinations:\n",
      "[0, 0] "
     ]
    },
    {
     "name": "stdin",
     "output_type": "stream",
     "text": [
      "Enter expected output (0 or 1):  1\n"
     ]
    },
    {
     "name": "stdout",
     "output_type": "stream",
     "text": [
      "[0, 1] "
     ]
    },
    {
     "name": "stdin",
     "output_type": "stream",
     "text": [
      "Enter expected output (0 or 1):  0\n"
     ]
    },
    {
     "name": "stdout",
     "output_type": "stream",
     "text": [
      "[1, 0] "
     ]
    },
    {
     "name": "stdin",
     "output_type": "stream",
     "text": [
      "Enter expected output (0 or 1):  1\n"
     ]
    },
    {
     "name": "stdout",
     "output_type": "stream",
     "text": [
      "[1, 1] "
     ]
    },
    {
     "name": "stdin",
     "output_type": "stream",
     "text": [
      "Enter expected output (0 or 1):  0\n"
     ]
    },
    {
     "name": "stdout",
     "output_type": "stream",
     "text": [
      "Epoch 1 - Loss: 0.248394\n",
      "Epoch 101 - Loss: 0.166101\n",
      "Epoch 201 - Loss: 0.032707\n",
      "Epoch 301 - Loss: 0.013516\n",
      "Epoch 401 - Loss: 0.007996\n",
      "Epoch 501 - Loss: 0.005568\n",
      "Epoch 601 - Loss: 0.004211\n",
      "Epoch 701 - Loss: 0.003374\n",
      "Epoch 801 - Loss: 0.002800\n",
      "Epoch 901 - Loss: 0.002388\n",
      "Epoch 1001 - Loss: 0.002077\n",
      "Epoch 1101 - Loss: 0.001835\n",
      "Epoch 1201 - Loss: 0.001643\n",
      "Epoch 1301 - Loss: 0.001486\n",
      "Epoch 1401 - Loss: 0.001356\n",
      "Epoch 1501 - Loss: 0.001245\n",
      "Epoch 1601 - Loss: 0.001151\n",
      "Epoch 1701 - Loss: 0.001070\n",
      "Epoch 1801 - Loss: 0.000999\n",
      "Training stopped at epoch 1801 with loss 0.000999\n",
      "\n",
      "Training complete!\n",
      "\n",
      "Sample\tInput\t\tExpected Output\tPredicted Output\n",
      "--------------------------------------------------------------\n",
      "1\t[0 0]\t\t1\t\t   1\n",
      "2\t[0 1]\t\t0\t\t   0\n",
      "3\t[1 0]\t\t1\t\t   1\n",
      "4\t[1 1]\t\t0\t\t   0\n"
     ]
    }
   ],
   "source": [
    "#20. Implement a simple Multi-Layer Perceptron with N binary inputs, two\n",
    "#hidden layers and one output. Use backpropagation and ReLU function as\n",
    "#activation function. \n",
    "#NN RELU\n",
    "import numpy as np\n",
    "from itertools import product\n",
    "\n",
    "# ReLU and its derivative\n",
    "def relu(x):\n",
    "    return np.maximum(0, x)\n",
    "\n",
    "def relu_derivative(x):\n",
    "    return np.where(x > 0, 1, 0)\n",
    "\n",
    "# User inputs\n",
    "N = int(input(\"Enter number of input features (N): \"))\n",
    "lr = float(input(\"Enter learning rate (e.g., 0.1): \"))\n",
    "hidden1 = int(input(\"Enter number of neurons in Hidden Layer 1: \"))\n",
    "hidden2 = int(input(\"Enter number of neurons in Hidden Layer 2: \"))\n",
    "\n",
    "# Generate all binary combinations of length N\n",
    "X = np.array(list(product([0, 1], repeat=N)))\n",
    "\n",
    "# Take expected output from user\n",
    "y = []\n",
    "print(\"\\nGenerated Binary Input Combinations:\")\n",
    "for x in X:\n",
    "    # Directly print the input as a list without np.int64\n",
    "    print(x.tolist(), end=' ')\n",
    "    out = int(input(\"Enter expected output (0 or 1): \"))\n",
    "    y.append([out])\n",
    "y = np.array(y)\n",
    "\n",
    "# Initialize weights and biases\n",
    "np.random.seed(1)\n",
    "w1 = np.random.uniform(-1, 1, size=(N, hidden1))\n",
    "b1 = np.zeros((1, hidden1))\n",
    "\n",
    "w2 = np.random.uniform(-1, 1, size=(hidden1, hidden2))\n",
    "b2 = np.zeros((1, hidden2))\n",
    "\n",
    "w3 = np.random.uniform(-1, 1, size=(hidden2, 1))\n",
    "b3 = np.zeros((1, 1))\n",
    "\n",
    "# Training: stop automatically when loss is low\n",
    "max_epochs = 10000\n",
    "target_loss = 0.001\n",
    "\n",
    "for epoch in range(max_epochs):\n",
    "    # Forward pass\n",
    "    z1 = np.dot(X, w1) + b1\n",
    "    a1 = relu(z1)  # ReLU activation for first hidden layer\n",
    "    z2 = np.dot(a1, w2) + b2\n",
    "    a2 = relu(z2)  # ReLU activation for second hidden layer\n",
    "    z3 = np.dot(a2, w3) + b3\n",
    "    output = sigmoid(z3)  # Sigmoid activation for output layer\n",
    "\n",
    "    # Backpropagation\n",
    "    error = y - output\n",
    "    d_output = error * sigmoid_derivative(output)\n",
    "    d_hidden2 = d_output.dot(w3.T) * relu_derivative(a2)  # ReLU derivative for second hidden layer\n",
    "    d_hidden1 = d_hidden2.dot(w2.T) * relu_derivative(a1)  # ReLU derivative for first hidden layer\n",
    "\n",
    "    # Update weights and biases\n",
    "    w3 += a2.T.dot(d_output) * lr\n",
    "    b3 += np.sum(d_output, axis=0, keepdims=True) * lr\n",
    "    w2 += a1.T.dot(d_hidden2) * lr\n",
    "    b2 += np.sum(d_hidden2, axis=0, keepdims=True) * lr\n",
    "    w1 += X.T.dot(d_hidden1) * lr\n",
    "    b1 += np.sum(d_hidden1, axis=0, keepdims=True) * lr\n",
    "\n",
    "    # Calculate and print loss\n",
    "    loss = np.mean(np.square(error))\n",
    "    if epoch % 100 == 0 or epoch == max_epochs - 1:\n",
    "        print(f\"Epoch {epoch+1} - Loss: {loss:.6f}\")\n",
    "    if loss < target_loss:\n",
    "        print(f\"Training stopped at epoch {epoch+1} with loss {loss:.6f}\")\n",
    "        break\n",
    "\n",
    "# Final Output\n",
    "predicted = (output > 0.5).astype(int)\n",
    "print(\"\\nTraining complete!\\n\")\n",
    "print(\"Sample\\tInput\\t\\tExpected Output\\tPredicted Output\")\n",
    "print(\"--------------------------------------------------------------\")\n",
    "for i in range(len(X)):\n",
    "    inputs = ' '.join(map(str, X[i]))  # Print the inputs as normal integers\n",
    "    print(f\"{i+1}\\t[{inputs}]\\t\\t{y[i][0]}\\t\\t   {predicted[i][0]}\")"
   ]
  },
  {
   "cell_type": "code",
   "execution_count": 8,
   "id": "7883f4bd-eefc-4af2-87ae-03c661480df2",
   "metadata": {},
   "outputs": [
    {
     "name": "stdin",
     "output_type": "stream",
     "text": [
      "Enter number of input features (N):  2\n",
      "Enter learning rate (e.g., 0.1):  0.1\n",
      "Enter number of neurons in Hidden Layer 1:  3\n",
      "Enter number of neurons in Hidden Layer 2:  2\n"
     ]
    },
    {
     "name": "stdout",
     "output_type": "stream",
     "text": [
      "\n",
      "Generated Binary Input Combinations:\n",
      "[0, 0] "
     ]
    },
    {
     "name": "stdin",
     "output_type": "stream",
     "text": [
      "Enter expected output (0 or 1):  1\n"
     ]
    },
    {
     "name": "stdout",
     "output_type": "stream",
     "text": [
      "[0, 1] "
     ]
    },
    {
     "name": "stdin",
     "output_type": "stream",
     "text": [
      "Enter expected output (0 or 1):  0\n"
     ]
    },
    {
     "name": "stdout",
     "output_type": "stream",
     "text": [
      "[1, 0] "
     ]
    },
    {
     "name": "stdin",
     "output_type": "stream",
     "text": [
      "Enter expected output (0 or 1):  1\n"
     ]
    },
    {
     "name": "stdout",
     "output_type": "stream",
     "text": [
      "[1, 1] "
     ]
    },
    {
     "name": "stdin",
     "output_type": "stream",
     "text": [
      "Enter expected output (0 or 1):  0\n"
     ]
    },
    {
     "name": "stdout",
     "output_type": "stream",
     "text": [
      "Epoch 1 - Loss: 0.218915\n",
      "Epoch 101 - Loss: 0.016190\n",
      "Epoch 201 - Loss: 0.004732\n",
      "Epoch 301 - Loss: 0.002611\n",
      "Epoch 401 - Loss: 0.001777\n",
      "Epoch 501 - Loss: 0.001340\n",
      "Epoch 601 - Loss: 0.001073\n",
      "Training stopped at epoch 638 with loss 0.000999\n",
      "\n",
      "Training complete!\n",
      "\n",
      "Sample\tInput\t\tExpected Output\tPredicted Output\n",
      "--------------------------------------------------------------\n",
      "1\t[0 0]\t\t1\t\t   1\n",
      "2\t[0 1]\t\t0\t\t   0\n",
      "3\t[1 0]\t\t1\t\t   1\n",
      "4\t[1 1]\t\t0\t\t   0\n"
     ]
    }
   ],
   "source": [
    "#21. Implement a simple Multi-Layer Perceptron with N binary inputs, two\n",
    "#hidden layers and one output. Use backpropagation and Tanh function as\n",
    "#activation function. \n",
    "#NN TANH\n",
    "import numpy as np\n",
    "from itertools import product\n",
    "\n",
    "# Tanh and its derivative\n",
    "def tanh(x):\n",
    "    return np.tanh(x)\n",
    "\n",
    "def tanh_derivative(x):\n",
    "    return 1.0 - np.tanh(x)**2\n",
    "\n",
    "# User inputs\n",
    "N = int(input(\"Enter number of input features (N): \"))\n",
    "lr = float(input(\"Enter learning rate (e.g., 0.1): \"))\n",
    "hidden1 = int(input(\"Enter number of neurons in Hidden Layer 1: \"))\n",
    "hidden2 = int(input(\"Enter number of neurons in Hidden Layer 2: \"))\n",
    "\n",
    "# Generate all binary combinations of length N\n",
    "X = np.array(list(product([0, 1], repeat=N)))\n",
    "\n",
    "# Take expected output from user\n",
    "y = []\n",
    "print(\"\\nGenerated Binary Input Combinations:\")\n",
    "for x in X:\n",
    "    # Directly print the input as a list without np.int64\n",
    "    print(x.tolist(), end=' ')\n",
    "    out = int(input(\"Enter expected output (0 or 1): \"))\n",
    "    y.append([out])\n",
    "y = np.array(y)\n",
    "\n",
    "# Initialize weights and biases\n",
    "np.random.seed(1)\n",
    "w1 = np.random.uniform(-1, 1, size=(N, hidden1))\n",
    "b1 = np.zeros((1, hidden1))\n",
    "\n",
    "w2 = np.random.uniform(-1, 1, size=(hidden1, hidden2))\n",
    "b2 = np.zeros((1, hidden2))\n",
    "\n",
    "w3 = np.random.uniform(-1, 1, size=(hidden2, 1))\n",
    "b3 = np.zeros((1, 1))\n",
    "\n",
    "# Training: stop automatically when loss is low\n",
    "max_epochs = 10000\n",
    "target_loss = 0.001\n",
    "\n",
    "for epoch in range(max_epochs):\n",
    "    # Forward pass\n",
    "    z1 = np.dot(X, w1) + b1\n",
    "    a1 = tanh(z1)  # Tanh activation for first hidden layer\n",
    "    z2 = np.dot(a1, w2) + b2\n",
    "    a2 = tanh(z2)  # Tanh activation for second hidden layer\n",
    "    z3 = np.dot(a2, w3) + b3\n",
    "    output = sigmoid(z3)  # Sigmoid activation for output layer\n",
    "\n",
    "    # Backpropagation\n",
    "    error = y - output\n",
    "    d_output = error * sigmoid_derivative(output)\n",
    "    d_hidden2 = d_output.dot(w3.T) * tanh_derivative(a2)  # Tanh derivative for second hidden layer\n",
    "    d_hidden1 = d_hidden2.dot(w2.T) * tanh_derivative(a1)  # Tanh derivative for first hidden layer\n",
    "\n",
    "    # Update weights and biases\n",
    "    w3 += a2.T.dot(d_output) * lr\n",
    "    b3 += np.sum(d_output, axis=0, keepdims=True) * lr\n",
    "    w2 += a1.T.dot(d_hidden2) * lr\n",
    "    b2 += np.sum(d_hidden2, axis=0, keepdims=True) * lr\n",
    "    w1 += X.T.dot(d_hidden1) * lr\n",
    "    b1 += np.sum(d_hidden1, axis=0, keepdims=True) * lr\n",
    "\n",
    "    # Calculate and print loss\n",
    "    loss = np.mean(np.square(error))\n",
    "    if epoch % 100 == 0 or epoch == max_epochs - 1:\n",
    "        print(f\"Epoch {epoch+1} - Loss: {loss:.6f}\")\n",
    "    if loss < target_loss:\n",
    "        print(f\"Training stopped at epoch {epoch+1} with loss {loss:.6f}\")\n",
    "        break\n",
    "\n",
    "# Final Output\n",
    "predicted = (output > 0.5).astype(int)\n",
    "print(\"\\nTraining complete!\\n\")\n",
    "print(\"Sample\\tInput\\t\\tExpected Output\\tPredicted Output\")\n",
    "print(\"--------------------------------------------------------------\")\n",
    "for i in range(len(X)):\n",
    "    inputs = ' '.join(map(str, X[i]))  # Print the inputs as normal integers\n",
    "    print(f\"{i+1}\\t[{inputs}]\\t\\t{y[i][0]}\\t\\t   {predicted[i][0]}\")"
   ]
  },
  {
   "cell_type": "code",
   "execution_count": null,
   "id": "0582e2de-d704-471d-82fa-b079a745f4ed",
   "metadata": {},
   "outputs": [],
   "source": []
  }
 ],
 "metadata": {
  "kernelspec": {
   "display_name": "Python 3 (ipykernel)",
   "language": "python",
   "name": "python3"
  },
  "language_info": {
   "codemirror_mode": {
    "name": "ipython",
    "version": 3
   },
   "file_extension": ".py",
   "mimetype": "text/x-python",
   "name": "python",
   "nbconvert_exporter": "python",
   "pygments_lexer": "ipython3",
   "version": "3.10.10"
  }
 },
 "nbformat": 4,
 "nbformat_minor": 5
}
